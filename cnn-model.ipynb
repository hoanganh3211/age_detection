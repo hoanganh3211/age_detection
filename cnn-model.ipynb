{
 "cells": [
  {
   "cell_type": "markdown",
   "metadata": {},
   "source": [
    "Import"
   ]
  },
  {
   "cell_type": "code",
   "execution_count": 1,
   "metadata": {
    "execution": {
     "iopub.execute_input": "2025-07-17T03:54:03.912565Z",
     "iopub.status.busy": "2025-07-17T03:54:03.912267Z",
     "iopub.status.idle": "2025-07-17T03:54:21.245696Z",
     "shell.execute_reply": "2025-07-17T03:54:21.244038Z",
     "shell.execute_reply.started": "2025-07-17T03:54:03.912544Z"
    },
    "trusted": true
   },
   "outputs": [
    {
     "name": "stderr",
     "output_type": "stream",
     "text": [
      "2025-07-17 03:54:11.152036: E external/local_xla/xla/stream_executor/cuda/cuda_fft.cc:477] Unable to register cuFFT factory: Attempting to register factory for plugin cuFFT when one has already been registered\n",
      "WARNING: All log messages before absl::InitializeLog() is called are written to STDERR\n",
      "E0000 00:00:1752724451.514545     119 cuda_dnn.cc:8310] Unable to register cuDNN factory: Attempting to register factory for plugin cuDNN when one has already been registered\n",
      "E0000 00:00:1752724451.618232     119 cuda_blas.cc:1418] Unable to register cuBLAS factory: Attempting to register factory for plugin cuBLAS when one has already been registered\n"
     ]
    }
   ],
   "source": [
    "#import\n",
    "import pandas as pd\n",
    "import numpy as np\n",
    "import seaborn as sns\n",
    "import os\n",
    "from PIL import Image, ImageOps\n",
    "from sklearn.model_selection import train_test_split\n",
    "\n",
    "from keras.models import Sequential\n",
    "from keras.layers import Conv2D, MaxPooling2D, Activation, Dropout, Flatten, Dense, BatchNormalization\n",
    "from keras import optimizers\n",
    "from tensorflow.keras.preprocessing.image import ImageDataGenerator\n",
    "import tensorflow as tf\n",
    "from matplotlib import pyplot as plt"
   ]
  },
  {
   "cell_type": "markdown",
   "metadata": {},
   "source": [
    "**LoadData**"
   ]
  },
  {
   "cell_type": "code",
   "execution_count": 2,
   "metadata": {
    "execution": {
     "iopub.execute_input": "2025-07-17T03:54:21.248491Z",
     "iopub.status.busy": "2025-07-17T03:54:21.247717Z",
     "iopub.status.idle": "2025-07-17T03:56:11.911377Z",
     "shell.execute_reply": "2025-07-17T03:56:11.910447Z",
     "shell.execute_reply.started": "2025-07-17T03:54:21.248458Z"
    },
    "trusted": true
   },
   "outputs": [],
   "source": [
    "\n",
    "images = []\n",
    "ages = []\n",
    "\n",
    "for i in os.listdir('../input/utkface-cropped/UTKFace/'):\n",
    "    split = i.split('_')\n",
    "    ages.append(int(split[0]))\n",
    "\n",
    "    images.append(Image.open('../input/utkface-cropped/UTKFace/' + i))"
   ]
  },
  {
   "cell_type": "code",
   "execution_count": 3,
   "metadata": {
    "execution": {
     "iopub.execute_input": "2025-07-17T03:56:11.912781Z",
     "iopub.status.busy": "2025-07-17T03:56:11.912535Z",
     "iopub.status.idle": "2025-07-17T03:56:52.357709Z",
     "shell.execute_reply": "2025-07-17T03:56:52.356709Z",
     "shell.execute_reply.started": "2025-07-17T03:56:11.912761Z"
    },
    "trusted": true
   },
   "outputs": [
    {
     "data": {
      "text/html": [
       "<div>\n",
       "<style scoped>\n",
       "    .dataframe tbody tr th:only-of-type {\n",
       "        vertical-align: middle;\n",
       "    }\n",
       "\n",
       "    .dataframe tbody tr th {\n",
       "        vertical-align: top;\n",
       "    }\n",
       "\n",
       "    .dataframe thead th {\n",
       "        text-align: right;\n",
       "    }\n",
       "</style>\n",
       "<table border=\"1\" class=\"dataframe\">\n",
       "  <thead>\n",
       "    <tr style=\"text-align: right;\">\n",
       "      <th></th>\n",
       "      <th>Images</th>\n",
       "      <th>Ages</th>\n",
       "    </tr>\n",
       "  </thead>\n",
       "  <tbody>\n",
       "    <tr>\n",
       "      <th>0</th>\n",
       "      <td>&lt;PIL.JpegImagePlugin.JpegImageFile image mode=...</td>\n",
       "      <td>26</td>\n",
       "    </tr>\n",
       "    <tr>\n",
       "      <th>1</th>\n",
       "      <td>&lt;PIL.JpegImagePlugin.JpegImageFile image mode=...</td>\n",
       "      <td>22</td>\n",
       "    </tr>\n",
       "    <tr>\n",
       "      <th>2</th>\n",
       "      <td>&lt;PIL.JpegImagePlugin.JpegImageFile image mode=...</td>\n",
       "      <td>21</td>\n",
       "    </tr>\n",
       "    <tr>\n",
       "      <th>3</th>\n",
       "      <td>&lt;PIL.JpegImagePlugin.JpegImageFile image mode=...</td>\n",
       "      <td>28</td>\n",
       "    </tr>\n",
       "    <tr>\n",
       "      <th>4</th>\n",
       "      <td>&lt;PIL.JpegImagePlugin.JpegImageFile image mode=...</td>\n",
       "      <td>17</td>\n",
       "    </tr>\n",
       "    <tr>\n",
       "      <th>...</th>\n",
       "      <td>...</td>\n",
       "      <td>...</td>\n",
       "    </tr>\n",
       "    <tr>\n",
       "      <th>23703</th>\n",
       "      <td>&lt;PIL.JpegImagePlugin.JpegImageFile image mode=...</td>\n",
       "      <td>41</td>\n",
       "    </tr>\n",
       "    <tr>\n",
       "      <th>23704</th>\n",
       "      <td>&lt;PIL.JpegImagePlugin.JpegImageFile image mode=...</td>\n",
       "      <td>42</td>\n",
       "    </tr>\n",
       "    <tr>\n",
       "      <th>23705</th>\n",
       "      <td>&lt;PIL.JpegImagePlugin.JpegImageFile image mode=...</td>\n",
       "      <td>2</td>\n",
       "    </tr>\n",
       "    <tr>\n",
       "      <th>23706</th>\n",
       "      <td>&lt;PIL.JpegImagePlugin.JpegImageFile image mode=...</td>\n",
       "      <td>65</td>\n",
       "    </tr>\n",
       "    <tr>\n",
       "      <th>23707</th>\n",
       "      <td>&lt;PIL.JpegImagePlugin.JpegImageFile image mode=...</td>\n",
       "      <td>66</td>\n",
       "    </tr>\n",
       "  </tbody>\n",
       "</table>\n",
       "<p>23708 rows × 2 columns</p>\n",
       "</div>"
      ],
      "text/plain": [
       "                                                  Images  Ages\n",
       "0      <PIL.JpegImagePlugin.JpegImageFile image mode=...    26\n",
       "1      <PIL.JpegImagePlugin.JpegImageFile image mode=...    22\n",
       "2      <PIL.JpegImagePlugin.JpegImageFile image mode=...    21\n",
       "3      <PIL.JpegImagePlugin.JpegImageFile image mode=...    28\n",
       "4      <PIL.JpegImagePlugin.JpegImageFile image mode=...    17\n",
       "...                                                  ...   ...\n",
       "23703  <PIL.JpegImagePlugin.JpegImageFile image mode=...    41\n",
       "23704  <PIL.JpegImagePlugin.JpegImageFile image mode=...    42\n",
       "23705  <PIL.JpegImagePlugin.JpegImageFile image mode=...     2\n",
       "23706  <PIL.JpegImagePlugin.JpegImageFile image mode=...    65\n",
       "23707  <PIL.JpegImagePlugin.JpegImageFile image mode=...    66\n",
       "\n",
       "[23708 rows x 2 columns]"
      ]
     },
     "execution_count": 3,
     "metadata": {},
     "output_type": "execute_result"
    }
   ],
   "source": [
    "images = pd.Series(list(images), name = 'Images')\n",
    "ages = pd.Series(list(ages), name = 'Ages')\n",
    "\n",
    "df = pd.concat([images, ages], axis=1)\n",
    "df"
   ]
  },
  {
   "cell_type": "code",
   "execution_count": 4,
   "metadata": {
    "execution": {
     "iopub.execute_input": "2025-07-17T03:56:52.359888Z",
     "iopub.status.busy": "2025-07-17T03:56:52.359611Z",
     "iopub.status.idle": "2025-07-17T03:56:52.904143Z",
     "shell.execute_reply": "2025-07-17T03:56:52.903240Z",
     "shell.execute_reply.started": "2025-07-17T03:56:52.359866Z"
    },
    "trusted": true
   },
   "outputs": [
    {
     "name": "stderr",
     "output_type": "stream",
     "text": [
      "/tmp/ipykernel_119/4129846311.py:13: UserWarning: \n",
      "\n",
      "`distplot` is a deprecated function and will be removed in seaborn v0.14.0.\n",
      "\n",
      "Please adapt your code to use either `displot` (a figure-level function with\n",
      "similar flexibility) or `histplot` (an axes-level function for histograms).\n",
      "\n",
      "For a guide to updating your code to use the new functions, please see\n",
      "https://gist.github.com/mwaskom/de44147ed2974457ad6372750bbe5751\n",
      "\n",
      "  sns.distplot(df['Ages'],kde=True, bins=30)\n",
      "/usr/local/lib/python3.11/dist-packages/seaborn/_oldcore.py:1119: FutureWarning: use_inf_as_na option is deprecated and will be removed in a future version. Convert inf values to NaN before operating instead.\n",
      "  with pd.option_context('mode.use_inf_as_na', True):\n"
     ]
    },
    {
     "data": {
      "text/plain": [
       "<Axes: xlabel='Ages', ylabel='Density'>"
      ]
     },
     "execution_count": 4,
     "metadata": {},
     "output_type": "execute_result"
    },
    {
     "data": {
      "image/png": "[encoded data removed]",
      "text/plain": [
       "<Figure size 640x480 with 1 Axes>"
      ]
     },
     "metadata": {},
     "output_type": "display_data"
    }
   ],
   "source": [
    "# chỉ đưa vào 1/3 số tuổi từ 0 đến 4 vì ở tuổi này có quá nhiều\n",
    "# under4s = []\n",
    "\n",
    "# for i in range(len(df)):\n",
    "#     if df['Ages'].iloc[i] <= 4:\n",
    "#         under4s.append(df.iloc[i])\n",
    "# under4s = pd.DataFrame(under4s)\n",
    "# under4s = under4s.sample(frac=0.3)\n",
    "\n",
    "# df = df[df['Ages'] > 4]\n",
    "\n",
    "# df = pd.concat([df, under4s], ignore_index = True)\n",
    "sns.distplot(df['Ages'],kde=True, bins=30)"
   ]
  },
  {
   "cell_type": "code",
   "execution_count": 5,
   "metadata": {
    "execution": {
     "iopub.execute_input": "2025-07-17T03:56:52.905289Z",
     "iopub.status.busy": "2025-07-17T03:56:52.904995Z",
     "iopub.status.idle": "2025-07-17T03:56:53.239687Z",
     "shell.execute_reply": "2025-07-17T03:56:53.238866Z",
     "shell.execute_reply.started": "2025-07-17T03:56:52.905253Z"
    },
    "trusted": true
   },
   "outputs": [
    {
     "name": "stderr",
     "output_type": "stream",
     "text": [
      "/tmp/ipykernel_119/3630449536.py:3: UserWarning: \n",
      "\n",
      "`distplot` is a deprecated function and will be removed in seaborn v0.14.0.\n",
      "\n",
      "Please adapt your code to use either `displot` (a figure-level function with\n",
      "similar flexibility) or `histplot` (an axes-level function for histograms).\n",
      "\n",
      "For a guide to updating your code to use the new functions, please see\n",
      "https://gist.github.com/mwaskom/de44147ed2974457ad6372750bbe5751\n",
      "\n",
      "  sns.distplot(df['Ages'],kde=True, bins=20)\n",
      "/usr/local/lib/python3.11/dist-packages/seaborn/_oldcore.py:1119: FutureWarning: use_inf_as_na option is deprecated and will be removed in a future version. Convert inf values to NaN before operating instead.\n",
      "  with pd.option_context('mode.use_inf_as_na', True):\n"
     ]
    },
    {
     "data": {
      "text/plain": [
       "<Axes: xlabel='Ages', ylabel='Density'>"
      ]
     },
     "execution_count": 5,
     "metadata": {},
     "output_type": "execute_result"
    },
    {
     "data": {
      "image/png": "[encoded data removed]",
      "text/plain": [
       "<Figure size 640x480 with 1 Axes>"
      ]
     },
     "metadata": {},
     "output_type": "display_data"
    }
   ],
   "source": [
    "# loại bỏ tuổi từ 99 trở đi vì có ít dữ liệu\n",
    "df = df[df['Ages'] < 99]\n",
    "sns.distplot(df['Ages'],kde=True, bins=20)"
   ]
  },
  {
   "cell_type": "code",
   "execution_count": 6,
   "metadata": {
    "execution": {
     "iopub.execute_input": "2025-07-17T03:56:53.240971Z",
     "iopub.status.busy": "2025-07-17T03:56:53.240685Z",
     "iopub.status.idle": "2025-07-17T03:56:58.058185Z",
     "shell.execute_reply": "2025-07-17T03:56:58.057550Z",
     "shell.execute_reply.started": "2025-07-17T03:56:53.240951Z"
    },
    "trusted": true
   },
   "outputs": [],
   "source": [
    "x = []\n",
    "y = []\n",
    "\n",
    "for _, row in df.iterrows():\n",
    "    # Resize ảnh\n",
    "    img_resized = row['Images'].resize((200, 200), Image.Resampling.LANCZOS)\n",
    "    # Chuyển sang array\n",
    "    img_array = np.asarray(img_resized)\n",
    "    x.append(img_array)\n",
    "\n",
    "    # Lưu nhãn\n",
    "    age = int(row['Ages'])\n",
    "    y.append([age])\n",
    "\n",
    "x = np.array(x)\n",
    "y = np.array(y)"
   ]
  },
  {
   "cell_type": "markdown",
   "metadata": {},
   "source": [
    "**Train test split**"
   ]
  },
  {
   "cell_type": "code",
   "execution_count": 7,
   "metadata": {
    "execution": {
     "iopub.execute_input": "2025-07-17T03:56:58.062269Z",
     "iopub.status.busy": "2025-07-17T03:56:58.062035Z",
     "iopub.status.idle": "2025-07-17T03:56:59.239726Z",
     "shell.execute_reply": "2025-07-17T03:56:59.238868Z",
     "shell.execute_reply.started": "2025-07-17T03:56:58.062251Z"
    },
    "trusted": true
   },
   "outputs": [],
   "source": [
    "y_age = df['Ages']\n",
    "\n",
    "x_train_age, x_test_age, y_train_age, y_test_age = train_test_split(x, y_age, test_size=0.2, stratify=y_age)"
   ]
  },
  {
   "cell_type": "code",
   "execution_count": 8,
   "metadata": {
    "execution": {
     "iopub.execute_input": "2025-07-17T03:56:59.241068Z",
     "iopub.status.busy": "2025-07-17T03:56:59.240707Z",
     "iopub.status.idle": "2025-07-17T03:57:03.692881Z",
     "shell.execute_reply": "2025-07-17T03:57:03.692314Z",
     "shell.execute_reply.started": "2025-07-17T03:56:59.241024Z"
    },
    "trusted": true
   },
   "outputs": [
    {
     "name": "stderr",
     "output_type": "stream",
     "text": [
      "/usr/local/lib/python3.11/dist-packages/keras/src/layers/convolutional/base_conv.py:107: UserWarning: Do not pass an `input_shape`/`input_dim` argument to a layer. When using Sequential models, prefer using an `Input(shape)` object as the first layer in the model instead.\n",
      "  super().__init__(activity_regularizer=activity_regularizer, **kwargs)\n",
      "I0000 00:00:1752724621.802907     119 gpu_device.cc:2022] Created device /job:localhost/replica:0/task:0/device:GPU:0 with 13942 MB memory:  -> device: 0, name: Tesla T4, pci bus id: 0000:00:04.0, compute capability: 7.5\n",
      "I0000 00:00:1752724621.803562     119 gpu_device.cc:2022] Created device /job:localhost/replica:0/task:0/device:GPU:1 with 13942 MB memory:  -> device: 1, name: Tesla T4, pci bus id: 0000:00:05.0, compute capability: 7.5\n"
     ]
    }
   ],
   "source": [
    "agemodel = Sequential()\n",
    "agemodel.add(Conv2D(32, (3,3), activation='relu', input_shape=(200, 200, 3)))\n",
    "agemodel.add(MaxPooling2D((2,2)))\n",
    "agemodel.add(Conv2D(64, (3,3), activation='relu'))\n",
    "agemodel.add(MaxPooling2D((2,2)))\n",
    "agemodel.add(Conv2D(128, (3,3), activation='relu'))\n",
    "agemodel.add(MaxPooling2D((2,2)))\n",
    "agemodel.add(Conv2D(256, (3,3), activation='relu'))\n",
    "agemodel.add(MaxPooling2D((2,2)))\n",
    "agemodel.add(Flatten())\n",
    "agemodel.add(Dense(64, activation='relu'))\n",
    "agemodel.add(Dropout(0.5))\n",
    "agemodel.add(Dense(1, activation='linear'))\n",
    "\n",
    "agemodel.compile(optimizer='adam', loss='mae', metrics=['mae'])\n"
   ]
  },
  {
   "cell_type": "markdown",
   "metadata": {},
   "source": [
    "**Training**"
   ]
  },
  {
   "cell_type": "code",
   "execution_count": null,
   "metadata": {
    "execution": {
     "iopub.execute_input": "2025-07-17T03:57:03.693881Z",
     "iopub.status.busy": "2025-07-17T03:57:03.693603Z"
    },
    "trusted": true
   },
   "outputs": [
    {
     "name": "stderr",
     "output_type": "stream",
     "text": [
      "/usr/local/lib/python3.11/dist-packages/keras/src/trainers/data_adapters/py_dataset_adapter.py:121: UserWarning: Your `PyDataset` class should call `super().__init__(**kwargs)` in its constructor. `**kwargs` can include `workers`, `use_multiprocessing`, `max_queue_size`. Do not pass these arguments to `fit()`, as they will be ignored.\n",
      "  self._warn_if_super_not_called()\n"
     ]
    },
    {
     "name": "stdout",
     "output_type": "stream",
     "text": [
      "Epoch 1/100\n"
     ]
    },
    {
     "name": "stderr",
     "output_type": "stream",
     "text": [
      "WARNING: All log messages before absl::InitializeLog() is called are written to STDERR\n",
      "I0000 00:00:1752724630.395572     154 service.cc:148] XLA service 0x7d0f10002210 initialized for platform CUDA (this does not guarantee that XLA will be used). Devices:\n",
      "I0000 00:00:1752724630.397162     154 service.cc:156]   StreamExecutor device (0): Tesla T4, Compute Capability 7.5\n",
      "I0000 00:00:1752724630.397188     154 service.cc:156]   StreamExecutor device (1): Tesla T4, Compute Capability 7.5\n",
      "I0000 00:00:1752724630.833780     154 cuda_dnn.cc:529] Loaded cuDNN version 90300\n"
     ]
    },
    {
     "name": "stdout",
     "output_type": "stream",
     "text": [
      "\u001b[1m  1/592\u001b[0m \u001b[37m━━━━━━━━━━━━━━━━━━━━\u001b[0m \u001b[1m1:39:16\u001b[0m 10s/step - loss: 36.8424 - mae: 36.8424"
     ]
    },
    {
     "name": "stderr",
     "output_type": "stream",
     "text": [
      "I0000 00:00:1752724637.058202     154 device_compiler.h:188] Compiled cluster using XLA!  This line is logged at most once for the lifetime of the process.\n"
     ]
    },
    {
     "name": "stdout",
     "output_type": "stream",
     "text": [
      "\u001b[1m592/592\u001b[0m \u001b[32m━━━━━━━━━━━━━━━━━━━━\u001b[0m\u001b[37m\u001b[0m \u001b[1m178s\u001b[0m 283ms/step - loss: 17.6034 - mae: 17.6034 - val_loss: 14.3186 - val_mae: 14.3186\n",
      "Epoch 2/100\n",
      "\u001b[1m592/592\u001b[0m \u001b[32m━━━━━━━━━━━━━━━━━━━━\u001b[0m\u001b[37m\u001b[0m \u001b[1m159s\u001b[0m 268ms/step - loss: 15.3454 - mae: 15.3454 - val_loss: 12.7220 - val_mae: 12.7220\n",
      "Epoch 3/100\n",
      "\u001b[1m592/592\u001b[0m \u001b[32m━━━━━━━━━━━━━━━━━━━━\u001b[0m\u001b[37m\u001b[0m \u001b[1m159s\u001b[0m 269ms/step - loss: 14.2852 - mae: 14.2852 - val_loss: 11.3937 - val_mae: 11.3937\n",
      "Epoch 4/100\n",
      "\u001b[1m592/592\u001b[0m \u001b[32m━━━━━━━━━━━━━━━━━━━━\u001b[0m\u001b[37m\u001b[0m \u001b[1m164s\u001b[0m 277ms/step - loss: 13.2451 - mae: 13.2451 - val_loss: 10.5612 - val_mae: 10.5612\n",
      "Epoch 5/100\n",
      "\u001b[1m592/592\u001b[0m \u001b[32m━━━━━━━━━━━━━━━━━━━━\u001b[0m\u001b[37m\u001b[0m \u001b[1m161s\u001b[0m 272ms/step - loss: 12.3132 - mae: 12.3132 - val_loss: 10.5645 - val_mae: 10.5645\n",
      "Epoch 6/100\n",
      "\u001b[1m592/592\u001b[0m \u001b[32m━━━━━━━━━━━━━━━━━━━━\u001b[0m\u001b[37m\u001b[0m \u001b[1m161s\u001b[0m 272ms/step - loss: 11.8423 - mae: 11.8423 - val_loss: 8.8883 - val_mae: 8.8883\n",
      "Epoch 7/100\n",
      "\u001b[1m592/592\u001b[0m \u001b[32m━━━━━━━━━━━━━━━━━━━━\u001b[0m\u001b[37m\u001b[0m \u001b[1m159s\u001b[0m 269ms/step - loss: 11.1219 - mae: 11.1219 - val_loss: 8.3042 - val_mae: 8.3042\n",
      "Epoch 8/100\n",
      "\u001b[1m592/592\u001b[0m \u001b[32m━━━━━━━━━━━━━━━━━━━━\u001b[0m\u001b[37m\u001b[0m \u001b[1m160s\u001b[0m 270ms/step - loss: 10.7184 - mae: 10.7184 - val_loss: 7.8864 - val_mae: 7.8864\n",
      "Epoch 9/100\n",
      "\u001b[1m592/592\u001b[0m \u001b[32m━━━━━━━━━━━━━━━━━━━━\u001b[0m\u001b[37m\u001b[0m \u001b[1m158s\u001b[0m 267ms/step - loss: 10.4139 - mae: 10.4139 - val_loss: 7.7855 - val_mae: 7.7855\n",
      "Epoch 10/100\n",
      "\u001b[1m592/592\u001b[0m \u001b[32m━━━━━━━━━━━━━━━━━━━━\u001b[0m\u001b[37m\u001b[0m \u001b[1m158s\u001b[0m 267ms/step - loss: 10.1588 - mae: 10.1588 - val_loss: 7.4716 - val_mae: 7.4716\n",
      "Epoch 11/100\n",
      "\u001b[1m592/592\u001b[0m \u001b[32m━━━━━━━━━━━━━━━━━━━━\u001b[0m\u001b[37m\u001b[0m \u001b[1m164s\u001b[0m 277ms/step - loss: 9.8126 - mae: 9.8126 - val_loss: 7.4772 - val_mae: 7.4772\n",
      "Epoch 12/100\n",
      "\u001b[1m592/592\u001b[0m \u001b[32m━━━━━━━━━━━━━━━━━━━━\u001b[0m\u001b[37m\u001b[0m \u001b[1m159s\u001b[0m 268ms/step - loss: 9.6894 - mae: 9.6894 - val_loss: 7.3849 - val_mae: 7.3849\n",
      "Epoch 13/100\n",
      "\u001b[1m592/592\u001b[0m \u001b[32m━━━━━━━━━━━━━━━━━━━━\u001b[0m\u001b[37m\u001b[0m \u001b[1m159s\u001b[0m 269ms/step - loss: 9.7199 - mae: 9.7199 - val_loss: 7.5784 - val_mae: 7.5784\n",
      "Epoch 14/100\n",
      "\u001b[1m592/592\u001b[0m \u001b[32m━━━━━━━━━━━━━━━━━━━━\u001b[0m\u001b[37m\u001b[0m \u001b[1m159s\u001b[0m 269ms/step - loss: 9.4995 - mae: 9.4995 - val_loss: 7.2502 - val_mae: 7.2502\n",
      "Epoch 15/100\n",
      "\u001b[1m592/592\u001b[0m \u001b[32m━━━━━━━━━━━━━━━━━━━━\u001b[0m\u001b[37m\u001b[0m \u001b[1m159s\u001b[0m 268ms/step - loss: 9.5369 - mae: 9.5369 - val_loss: 7.1495 - val_mae: 7.1495\n",
      "Epoch 16/100\n",
      "\u001b[1m592/592\u001b[0m \u001b[32m━━━━━━━━━━━━━━━━━━━━\u001b[0m\u001b[37m\u001b[0m \u001b[1m158s\u001b[0m 266ms/step - loss: 9.3234 - mae: 9.3234 - val_loss: 7.0494 - val_mae: 7.0494\n",
      "Epoch 17/100\n",
      "\u001b[1m592/592\u001b[0m \u001b[32m━━━━━━━━━━━━━━━━━━━━\u001b[0m\u001b[37m\u001b[0m \u001b[1m158s\u001b[0m 267ms/step - loss: 9.3678 - mae: 9.3678 - val_loss: 6.8016 - val_mae: 6.8016\n",
      "Epoch 18/100\n",
      "\u001b[1m592/592\u001b[0m \u001b[32m━━━━━━━━━━━━━━━━━━━━\u001b[0m\u001b[37m\u001b[0m \u001b[1m159s\u001b[0m 268ms/step - loss: 9.0649 - mae: 9.0649 - val_loss: 6.8330 - val_mae: 6.8330\n",
      "Epoch 19/100\n",
      "\u001b[1m592/592\u001b[0m \u001b[32m━━━━━━━━━━━━━━━━━━━━\u001b[0m\u001b[37m\u001b[0m \u001b[1m159s\u001b[0m 268ms/step - loss: 9.2186 - mae: 9.2186 - val_loss: 6.9889 - val_mae: 6.9889\n",
      "Epoch 20/100\n",
      "\u001b[1m592/592\u001b[0m \u001b[32m━━━━━━━━━━━━━━━━━━━━\u001b[0m\u001b[37m\u001b[0m \u001b[1m159s\u001b[0m 268ms/step - loss: 9.1572 - mae: 9.1572 - val_loss: 6.7738 - val_mae: 6.7738\n",
      "Epoch 21/100\n",
      "\u001b[1m592/592\u001b[0m \u001b[32m━━━━━━━━━━━━━━━━━━━━\u001b[0m\u001b[37m\u001b[0m \u001b[1m158s\u001b[0m 267ms/step - loss: 8.9991 - mae: 8.9991 - val_loss: 7.1065 - val_mae: 7.1065\n",
      "Epoch 22/100\n",
      "\u001b[1m592/592\u001b[0m \u001b[32m━━━━━━━━━━━━━━━━━━━━\u001b[0m\u001b[37m\u001b[0m \u001b[1m157s\u001b[0m 265ms/step - loss: 9.0373 - mae: 9.0373 - val_loss: 7.5358 - val_mae: 7.5358\n",
      "Epoch 23/100\n",
      "\u001b[1m592/592\u001b[0m \u001b[32m━━━━━━━━━━━━━━━━━━━━\u001b[0m\u001b[37m\u001b[0m \u001b[1m156s\u001b[0m 264ms/step - loss: 9.0338 - mae: 9.0338 - val_loss: 7.0337 - val_mae: 7.0337\n",
      "Epoch 24/100\n",
      "\u001b[1m592/592\u001b[0m \u001b[32m━━━━━━━━━━━━━━━━━━━━\u001b[0m\u001b[37m\u001b[0m \u001b[1m158s\u001b[0m 267ms/step - loss: 8.7433 - mae: 8.7433 - val_loss: 7.6306 - val_mae: 7.6306\n",
      "Epoch 25/100\n",
      "\u001b[1m592/592\u001b[0m \u001b[32m━━━━━━━━━━━━━━━━━━━━\u001b[0m\u001b[37m\u001b[0m \u001b[1m158s\u001b[0m 266ms/step - loss: 8.8113 - mae: 8.8113 - val_loss: 6.7521 - val_mae: 6.7521\n",
      "Epoch 26/100\n",
      "\u001b[1m592/592\u001b[0m \u001b[32m━━━━━━━━━━━━━━━━━━━━\u001b[0m\u001b[37m\u001b[0m \u001b[1m159s\u001b[0m 269ms/step - loss: 8.8000 - mae: 8.8000 - val_loss: 6.7999 - val_mae: 6.7999\n",
      "Epoch 27/100\n",
      "\u001b[1m592/592\u001b[0m \u001b[32m━━━━━━━━━━━━━━━━━━━━\u001b[0m\u001b[37m\u001b[0m \u001b[1m158s\u001b[0m 267ms/step - loss: 8.7750 - mae: 8.7750 - val_loss: 6.8903 - val_mae: 6.8903\n",
      "Epoch 28/100\n",
      "\u001b[1m592/592\u001b[0m \u001b[32m━━━━━━━━━━━━━━━━━━━━\u001b[0m\u001b[37m\u001b[0m \u001b[1m163s\u001b[0m 276ms/step - loss: 8.6675 - mae: 8.6675 - val_loss: 6.7320 - val_mae: 6.7320\n",
      "Epoch 29/100\n",
      "\u001b[1m592/592\u001b[0m \u001b[32m━━━━━━━━━━━━━━━━━━━━\u001b[0m\u001b[37m\u001b[0m \u001b[1m158s\u001b[0m 266ms/step - loss: 8.5424 - mae: 8.5424 - val_loss: 6.7627 - val_mae: 6.7627\n",
      "Epoch 30/100\n",
      "\u001b[1m592/592\u001b[0m \u001b[32m━━━━━━━━━━━━━━━━━━━━\u001b[0m\u001b[37m\u001b[0m \u001b[1m159s\u001b[0m 268ms/step - loss: 8.6031 - mae: 8.6031 - val_loss: 6.5720 - val_mae: 6.5720\n",
      "Epoch 31/100\n",
      "\u001b[1m592/592\u001b[0m \u001b[32m━━━━━━━━━━━━━━━━━━━━\u001b[0m\u001b[37m\u001b[0m \u001b[1m163s\u001b[0m 276ms/step - loss: 8.5677 - mae: 8.5677 - val_loss: 7.0839 - val_mae: 7.0839\n",
      "Epoch 32/100\n",
      "\u001b[1m592/592\u001b[0m \u001b[32m━━━━━━━━━━━━━━━━━━━━\u001b[0m\u001b[37m\u001b[0m \u001b[1m159s\u001b[0m 268ms/step - loss: 8.7015 - mae: 8.7015 - val_loss: 7.0783 - val_mae: 7.0783\n",
      "Epoch 33/100\n",
      "\u001b[1m592/592\u001b[0m \u001b[32m━━━━━━━━━━━━━━━━━━━━\u001b[0m\u001b[37m\u001b[0m \u001b[1m161s\u001b[0m 271ms/step - loss: 8.6136 - mae: 8.6136 - val_loss: 6.4348 - val_mae: 6.4348\n",
      "Epoch 34/100\n",
      "\u001b[1m592/592\u001b[0m \u001b[32m━━━━━━━━━━━━━━━━━━━━\u001b[0m\u001b[37m\u001b[0m \u001b[1m167s\u001b[0m 282ms/step - loss: 8.5334 - mae: 8.5334 - val_loss: 6.5234 - val_mae: 6.5234\n",
      "Epoch 35/100\n",
      "\u001b[1m592/592\u001b[0m \u001b[32m━━━━━━━━━━━━━━━━━━━━\u001b[0m\u001b[37m\u001b[0m \u001b[1m157s\u001b[0m 265ms/step - loss: 8.4712 - mae: 8.4712 - val_loss: 6.6054 - val_mae: 6.6054\n",
      "Epoch 36/100\n",
      "\u001b[1m592/592\u001b[0m \u001b[32m━━━━━━━━━━━━━━━━━━━━\u001b[0m\u001b[37m\u001b[0m \u001b[1m163s\u001b[0m 276ms/step - loss: 8.4161 - mae: 8.4161 - val_loss: 6.6795 - val_mae: 6.6795\n",
      "Epoch 37/100\n",
      "\u001b[1m592/592\u001b[0m \u001b[32m━━━━━━━━━━━━━━━━━━━━\u001b[0m\u001b[37m\u001b[0m \u001b[1m165s\u001b[0m 279ms/step - loss: 8.3845 - mae: 8.3845 - val_loss: 7.0177 - val_mae: 7.0177\n",
      "Epoch 38/100\n",
      "\u001b[1m592/592\u001b[0m \u001b[32m━━━━━━━━━━━━━━━━━━━━\u001b[0m\u001b[37m\u001b[0m \u001b[1m165s\u001b[0m 279ms/step - loss: 8.4139 - mae: 8.4139 - val_loss: 6.3508 - val_mae: 6.3508\n",
      "Epoch 39/100\n",
      "\u001b[1m592/592\u001b[0m \u001b[32m━━━━━━━━━━━━━━━━━━━━\u001b[0m\u001b[37m\u001b[0m \u001b[1m163s\u001b[0m 276ms/step - loss: 8.3691 - mae: 8.3691 - val_loss: 6.9634 - val_mae: 6.9634\n",
      "Epoch 40/100\n",
      "\u001b[1m592/592\u001b[0m \u001b[32m━━━━━━━━━━━━━━━━━━━━\u001b[0m\u001b[37m\u001b[0m \u001b[1m164s\u001b[0m 278ms/step - loss: 8.4092 - mae: 8.4092 - val_loss: 6.9082 - val_mae: 6.9082\n",
      "Epoch 41/100\n",
      "\u001b[1m592/592\u001b[0m \u001b[32m━━━━━━━━━━━━━━━━━━━━\u001b[0m\u001b[37m\u001b[0m \u001b[1m160s\u001b[0m 270ms/step - loss: 8.5465 - mae: 8.5465 - val_loss: 6.4774 - val_mae: 6.4774\n",
      "Epoch 42/100\n",
      "\u001b[1m592/592\u001b[0m \u001b[32m━━━━━━━━━━━━━━━━━━━━\u001b[0m\u001b[37m\u001b[0m \u001b[1m159s\u001b[0m 269ms/step - loss: 8.4365 - mae: 8.4365 - val_loss: 6.7028 - val_mae: 6.7028\n",
      "Epoch 43/100\n",
      "\u001b[1m592/592\u001b[0m \u001b[32m━━━━━━━━━━━━━━━━━━━━\u001b[0m\u001b[37m\u001b[0m \u001b[1m159s\u001b[0m 269ms/step - loss: 8.4128 - mae: 8.4128 - val_loss: 6.5055 - val_mae: 6.5055\n",
      "Epoch 44/100\n",
      "\u001b[1m592/592\u001b[0m \u001b[32m━━━━━━━━━━━━━━━━━━━━\u001b[0m\u001b[37m\u001b[0m \u001b[1m161s\u001b[0m 272ms/step - loss: 8.3426 - mae: 8.3426 - val_loss: 6.5562 - val_mae: 6.5562\n",
      "Epoch 45/100\n",
      "\u001b[1m592/592\u001b[0m \u001b[32m━━━━━━━━━━━━━━━━━━━━\u001b[0m\u001b[37m\u001b[0m \u001b[1m162s\u001b[0m 273ms/step - loss: 8.3058 - mae: 8.3058 - val_loss: 6.4378 - val_mae: 6.4378\n",
      "Epoch 46/100\n",
      "\u001b[1m592/592\u001b[0m \u001b[32m━━━━━━━━━━━━━━━━━━━━\u001b[0m\u001b[37m\u001b[0m \u001b[1m157s\u001b[0m 264ms/step - loss: 8.1740 - mae: 8.1740 - val_loss: 6.4357 - val_mae: 6.4357\n",
      "Epoch 47/100\n",
      "\u001b[1m592/592\u001b[0m \u001b[32m━━━━━━━━━━━━━━━━━━━━\u001b[0m\u001b[37m\u001b[0m \u001b[1m162s\u001b[0m 274ms/step - loss: 8.1266 - mae: 8.1266 - val_loss: 6.4369 - val_mae: 6.4369\n",
      "Epoch 48/100\n",
      "\u001b[1m592/592\u001b[0m \u001b[32m━━━━━━━━━━━━━━━━━━━━\u001b[0m\u001b[37m\u001b[0m \u001b[1m166s\u001b[0m 279ms/step - loss: 8.3780 - mae: 8.3780 - val_loss: 6.7095 - val_mae: 6.7095\n",
      "Epoch 49/100\n",
      "\u001b[1m592/592\u001b[0m \u001b[32m━━━━━━━━━━━━━━━━━━━━\u001b[0m\u001b[37m\u001b[0m \u001b[1m160s\u001b[0m 270ms/step - loss: 8.2132 - mae: 8.2132 - val_loss: 6.9707 - val_mae: 6.9707\n",
      "Epoch 50/100\n",
      "\u001b[1m592/592\u001b[0m \u001b[32m━━━━━━━━━━━━━━━━━━━━\u001b[0m\u001b[37m\u001b[0m \u001b[1m167s\u001b[0m 282ms/step - loss: 8.1402 - mae: 8.1402 - val_loss: 6.4195 - val_mae: 6.4195\n",
      "Epoch 51/100\n",
      "\u001b[1m592/592\u001b[0m \u001b[32m━━━━━━━━━━━━━━━━━━━━\u001b[0m\u001b[37m\u001b[0m \u001b[1m164s\u001b[0m 278ms/step - loss: 8.2936 - mae: 8.2936 - val_loss: 7.0142 - val_mae: 7.0142\n",
      "Epoch 52/100\n",
      "\u001b[1m592/592\u001b[0m \u001b[32m━━━━━━━━━━━━━━━━━━━━\u001b[0m\u001b[37m\u001b[0m \u001b[1m164s\u001b[0m 278ms/step - loss: 8.0186 - mae: 8.0186 - val_loss: 6.7623 - val_mae: 6.7623\n",
      "Epoch 53/100\n",
      "\u001b[1m592/592\u001b[0m \u001b[32m━━━━━━━━━━━━━━━━━━━━\u001b[0m\u001b[37m\u001b[0m \u001b[1m158s\u001b[0m 266ms/step - loss: 8.2208 - mae: 8.2208 - val_loss: 6.4206 - val_mae: 6.4206\n",
      "Epoch 54/100\n",
      "\u001b[1m592/592\u001b[0m \u001b[32m━━━━━━━━━━━━━━━━━━━━\u001b[0m\u001b[37m\u001b[0m \u001b[1m157s\u001b[0m 265ms/step - loss: 8.1826 - mae: 8.1826 - val_loss: 6.7753 - val_mae: 6.7753\n",
      "Epoch 55/100\n",
      "\u001b[1m592/592\u001b[0m \u001b[32m━━━━━━━━━━━━━━━━━━━━\u001b[0m\u001b[37m\u001b[0m \u001b[1m167s\u001b[0m 282ms/step - loss: 8.2151 - mae: 8.2151 - val_loss: 6.6383 - val_mae: 6.6383\n",
      "Epoch 56/100\n",
      "\u001b[1m592/592\u001b[0m \u001b[32m━━━━━━━━━━━━━━━━━━━━\u001b[0m\u001b[37m\u001b[0m \u001b[1m159s\u001b[0m 269ms/step - loss: 8.0552 - mae: 8.0552 - val_loss: 6.6259 - val_mae: 6.6259\n",
      "Epoch 57/100\n",
      "\u001b[1m592/592\u001b[0m \u001b[32m━━━━━━━━━━━━━━━━━━━━\u001b[0m\u001b[37m\u001b[0m \u001b[1m159s\u001b[0m 268ms/step - loss: 8.2798 - mae: 8.2798 - val_loss: 6.5294 - val_mae: 6.5294\n",
      "Epoch 58/100\n",
      "\u001b[1m592/592\u001b[0m \u001b[32m━━━━━━━━━━━━━━━━━━━━\u001b[0m\u001b[37m\u001b[0m \u001b[1m160s\u001b[0m 271ms/step - loss: 8.1849 - mae: 8.1849 - val_loss: 6.8794 - val_mae: 6.8794\n",
      "Epoch 59/100\n",
      "\u001b[1m592/592\u001b[0m \u001b[32m━━━━━━━━━━━━━━━━━━━━\u001b[0m\u001b[37m\u001b[0m \u001b[1m160s\u001b[0m 269ms/step - loss: 7.9991 - mae: 7.9991 - val_loss: 6.7069 - val_mae: 6.7069\n",
      "Epoch 60/100\n",
      "\u001b[1m592/592\u001b[0m \u001b[32m━━━━━━━━━━━━━━━━━━━━\u001b[0m\u001b[37m\u001b[0m \u001b[1m158s\u001b[0m 267ms/step - loss: 8.0800 - mae: 8.0800 - val_loss: 6.6870 - val_mae: 6.6870\n",
      "Epoch 61/100\n",
      "\u001b[1m592/592\u001b[0m \u001b[32m━━━━━━━━━━━━━━━━━━━━\u001b[0m\u001b[37m\u001b[0m \u001b[1m158s\u001b[0m 267ms/step - loss: 8.0950 - mae: 8.0950 - val_loss: 6.4006 - val_mae: 6.4006\n",
      "Epoch 62/100\n",
      "\u001b[1m592/592\u001b[0m \u001b[32m━━━━━━━━━━━━━━━━━━━━\u001b[0m\u001b[37m\u001b[0m \u001b[1m159s\u001b[0m 269ms/step - loss: 8.1196 - mae: 8.1196 - val_loss: 6.4166 - val_mae: 6.4166\n",
      "Epoch 63/100\n",
      "\u001b[1m592/592\u001b[0m \u001b[32m━━━━━━━━━━━━━━━━━━━━\u001b[0m\u001b[37m\u001b[0m \u001b[1m159s\u001b[0m 269ms/step - loss: 8.0624 - mae: 8.0624 - val_loss: 6.4452 - val_mae: 6.4452\n",
      "Epoch 64/100\n",
      "\u001b[1m592/592\u001b[0m \u001b[32m━━━━━━━━━━━━━━━━━━━━\u001b[0m\u001b[37m\u001b[0m \u001b[1m159s\u001b[0m 268ms/step - loss: 8.0912 - mae: 8.0912 - val_loss: 6.4545 - val_mae: 6.4545\n",
      "Epoch 65/100\n",
      "\u001b[1m592/592\u001b[0m \u001b[32m━━━━━━━━━━━━━━━━━━━━\u001b[0m\u001b[37m\u001b[0m \u001b[1m159s\u001b[0m 269ms/step - loss: 8.0729 - mae: 8.0729 - val_loss: 6.7587 - val_mae: 6.7587\n",
      "Epoch 66/100\n",
      "\u001b[1m592/592\u001b[0m \u001b[32m━━━━━━━━━━━━━━━━━━━━\u001b[0m\u001b[37m\u001b[0m \u001b[1m162s\u001b[0m 274ms/step - loss: 7.9358 - mae: 7.9358 - val_loss: 6.6275 - val_mae: 6.6275\n",
      "Epoch 67/100\n",
      "\u001b[1m592/592\u001b[0m \u001b[32m━━━━━━━━━━━━━━━━━━━━\u001b[0m\u001b[37m\u001b[0m \u001b[1m164s\u001b[0m 277ms/step - loss: 8.1143 - mae: 8.1143 - val_loss: 6.7268 - val_mae: 6.7268\n",
      "Epoch 68/100\n",
      "\u001b[1m592/592\u001b[0m \u001b[32m━━━━━━━━━━━━━━━━━━━━\u001b[0m\u001b[37m\u001b[0m \u001b[1m165s\u001b[0m 278ms/step - loss: 7.9564 - mae: 7.9564 - val_loss: 6.7537 - val_mae: 6.7537\n",
      "Epoch 69/100\n",
      "\u001b[1m592/592\u001b[0m \u001b[32m━━━━━━━━━━━━━━━━━━━━\u001b[0m\u001b[37m\u001b[0m \u001b[1m163s\u001b[0m 275ms/step - loss: 8.0610 - mae: 8.0610 - val_loss: 6.5358 - val_mae: 6.5358\n",
      "Epoch 70/100\n",
      "\u001b[1m592/592\u001b[0m \u001b[32m━━━━━━━━━━━━━━━━━━━━\u001b[0m\u001b[37m\u001b[0m \u001b[1m158s\u001b[0m 266ms/step - loss: 8.0707 - mae: 8.0707 - val_loss: 7.1810 - val_mae: 7.1810\n",
      "Epoch 71/100\n",
      "\u001b[1m592/592\u001b[0m \u001b[32m━━━━━━━━━━━━━━━━━━━━\u001b[0m\u001b[37m\u001b[0m \u001b[1m159s\u001b[0m 269ms/step - loss: 8.0197 - mae: 8.0197 - val_loss: 6.4786 - val_mae: 6.4786\n",
      "Epoch 72/100\n",
      "\u001b[1m592/592\u001b[0m \u001b[32m━━━━━━━━━━━━━━━━━━━━\u001b[0m\u001b[37m\u001b[0m \u001b[1m160s\u001b[0m 271ms/step - loss: 8.0128 - mae: 8.0128 - val_loss: 6.7465 - val_mae: 6.7465\n",
      "Epoch 73/100\n",
      "\u001b[1m592/592\u001b[0m \u001b[32m━━━━━━━━━━━━━━━━━━━━\u001b[0m\u001b[37m\u001b[0m \u001b[1m166s\u001b[0m 280ms/step - loss: 7.9842 - mae: 7.9842 - val_loss: 6.3949 - val_mae: 6.3949\n",
      "Epoch 74/100\n",
      "\u001b[1m592/592\u001b[0m \u001b[32m━━━━━━━━━━━━━━━━━━━━\u001b[0m\u001b[37m\u001b[0m \u001b[1m158s\u001b[0m 267ms/step - loss: 7.9888 - mae: 7.9888 - val_loss: 6.3365 - val_mae: 6.3365\n",
      "Epoch 75/100\n",
      "\u001b[1m592/592\u001b[0m \u001b[32m━━━━━━━━━━━━━━━━━━━━\u001b[0m\u001b[37m\u001b[0m \u001b[1m156s\u001b[0m 264ms/step - loss: 7.9746 - mae: 7.9746 - val_loss: 6.5118 - val_mae: 6.5118\n",
      "Epoch 76/100\n",
      "\u001b[1m592/592\u001b[0m \u001b[32m━━━━━━━━━━━━━━━━━━━━\u001b[0m\u001b[37m\u001b[0m \u001b[1m158s\u001b[0m 267ms/step - loss: 7.8495 - mae: 7.8495 - val_loss: 6.5738 - val_mae: 6.5738\n",
      "Epoch 77/100\n",
      "\u001b[1m592/592\u001b[0m \u001b[32m━━━━━━━━━━━━━━━━━━━━\u001b[0m\u001b[37m\u001b[0m \u001b[1m160s\u001b[0m 270ms/step - loss: 7.9632 - mae: 7.9632 - val_loss: 6.4170 - val_mae: 6.4170\n",
      "Epoch 78/100\n",
      "\u001b[1m592/592\u001b[0m \u001b[32m━━━━━━━━━━━━━━━━━━━━\u001b[0m\u001b[37m\u001b[0m \u001b[1m164s\u001b[0m 276ms/step - loss: 7.9395 - mae: 7.9395 - val_loss: 6.8901 - val_mae: 6.8901\n",
      "Epoch 79/100\n",
      "\u001b[1m592/592\u001b[0m \u001b[32m━━━━━━━━━━━━━━━━━━━━\u001b[0m\u001b[37m\u001b[0m \u001b[1m167s\u001b[0m 282ms/step - loss: 8.0031 - mae: 8.0031 - val_loss: 7.4247 - val_mae: 7.4247\n",
      "Epoch 80/100\n",
      "\u001b[1m592/592\u001b[0m \u001b[32m━━━━━━━━━━━━━━━━━━━━\u001b[0m\u001b[37m\u001b[0m \u001b[1m159s\u001b[0m 268ms/step - loss: 7.9040 - mae: 7.9040 - val_loss: 6.5336 - val_mae: 6.5336\n",
      "Epoch 81/100\n",
      "\u001b[1m592/592\u001b[0m \u001b[32m━━━━━━━━━━━━━━━━━━━━\u001b[0m\u001b[37m\u001b[0m \u001b[1m158s\u001b[0m 267ms/step - loss: 7.8369 - mae: 7.8369 - val_loss: 6.6277 - val_mae: 6.6277\n",
      "Epoch 82/100\n",
      "\u001b[1m592/592\u001b[0m \u001b[32m━━━━━━━━━━━━━━━━━━━━\u001b[0m\u001b[37m\u001b[0m \u001b[1m159s\u001b[0m 268ms/step - loss: 7.9101 - mae: 7.9101 - val_loss: 6.4580 - val_mae: 6.4580\n",
      "Epoch 83/100\n",
      "\u001b[1m592/592\u001b[0m \u001b[32m━━━━━━━━━━━━━━━━━━━━\u001b[0m\u001b[37m\u001b[0m \u001b[1m162s\u001b[0m 274ms/step - loss: 7.8375 - mae: 7.8375 - val_loss: 6.5271 - val_mae: 6.5271\n",
      "Epoch 84/100\n",
      "\u001b[1m592/592\u001b[0m \u001b[32m━━━━━━━━━━━━━━━━━━━━\u001b[0m\u001b[37m\u001b[0m \u001b[1m159s\u001b[0m 268ms/step - loss: 7.9587 - mae: 7.9587 - val_loss: 6.8402 - val_mae: 6.8402\n",
      "Epoch 85/100\n",
      "\u001b[1m592/592\u001b[0m \u001b[32m━━━━━━━━━━━━━━━━━━━━\u001b[0m\u001b[37m\u001b[0m \u001b[1m158s\u001b[0m 267ms/step - loss: 7.7678 - mae: 7.7678 - val_loss: 6.5127 - val_mae: 6.5127\n",
      "Epoch 86/100\n",
      "\u001b[1m592/592\u001b[0m \u001b[32m━━━━━━━━━━━━━━━━━━━━\u001b[0m\u001b[37m\u001b[0m \u001b[1m156s\u001b[0m 264ms/step - loss: 7.6815 - mae: 7.6815 - val_loss: 6.3415 - val_mae: 6.3415\n",
      "Epoch 87/100\n",
      "\u001b[1m592/592\u001b[0m \u001b[32m━━━━━━━━━━━━━━━━━━━━\u001b[0m\u001b[37m\u001b[0m \u001b[1m159s\u001b[0m 268ms/step - loss: 7.8547 - mae: 7.8547 - val_loss: 6.8924 - val_mae: 6.8924\n",
      "Epoch 88/100\n",
      "\u001b[1m592/592\u001b[0m \u001b[32m━━━━━━━━━━━━━━━━━━━━\u001b[0m\u001b[37m\u001b[0m \u001b[1m159s\u001b[0m 268ms/step - loss: 7.8249 - mae: 7.8249 - val_loss: 6.9388 - val_mae: 6.9388\n",
      "Epoch 89/100\n",
      "\u001b[1m592/592\u001b[0m \u001b[32m━━━━━━━━━━━━━━━━━━━━\u001b[0m\u001b[37m\u001b[0m \u001b[1m159s\u001b[0m 269ms/step - loss: 7.7762 - mae: 7.7762 - val_loss: 6.8843 - val_mae: 6.8843\n",
      "Epoch 90/100\n",
      "\u001b[1m592/592\u001b[0m \u001b[32m━━━━━━━━━━━━━━━━━━━━\u001b[0m\u001b[37m\u001b[0m \u001b[1m158s\u001b[0m 267ms/step - loss: 7.8993 - mae: 7.8993 - val_loss: 6.4641 - val_mae: 6.4641\n",
      "Epoch 91/100\n",
      "\u001b[1m592/592\u001b[0m \u001b[32m━━━━━━━━━━━━━━━━━━━━\u001b[0m\u001b[37m\u001b[0m \u001b[1m158s\u001b[0m 267ms/step - loss: 7.8297 - mae: 7.8297 - val_loss: 6.4724 - val_mae: 6.4724\n",
      "Epoch 92/100\n",
      "\u001b[1m592/592\u001b[0m \u001b[32m━━━━━━━━━━━━━━━━━━━━\u001b[0m\u001b[37m\u001b[0m \u001b[1m159s\u001b[0m 268ms/step - loss: 7.8361 - mae: 7.8361 - val_loss: 6.4000 - val_mae: 6.4000\n",
      "Epoch 93/100\n",
      "\u001b[1m592/592\u001b[0m \u001b[32m━━━━━━━━━━━━━━━━━━━━\u001b[0m\u001b[37m\u001b[0m \u001b[1m158s\u001b[0m 266ms/step - loss: 7.7829 - mae: 7.7829 - val_loss: 6.3937 - val_mae: 6.3937\n",
      "Epoch 94/100\n",
      "\u001b[1m263/592\u001b[0m \u001b[32m━━━━━━━━\u001b[0m\u001b[37m━━━━━━━━━━━━\u001b[0m \u001b[1m1:26\u001b[0m 264ms/step - loss: 7.8538 - mae: 7.8538"
     ]
    }
   ],
   "source": [
    "datagen = ImageDataGenerator(\n",
    "      rescale=1./255., width_shift_range = 0.1, height_shift_range = 0.1, horizontal_flip = True)\n",
    "\n",
    "test_datagen = ImageDataGenerator(rescale=1./255)\n",
    "\n",
    "train = datagen.flow(x_train_age, y_train_age, batch_size=32)\n",
    "\n",
    "test = test_datagen.flow(\n",
    "        x_test_age, y_test_age,\n",
    "        batch_size=32)\n",
    "history1 = agemodel.fit(\n",
    "    train,\n",
    "    epochs=100,\n",
    "    shuffle=True,\n",
    "    validation_data=test\n",
    ")"
   ]
  },
  {
   "cell_type": "code",
   "execution_count": null,
   "metadata": {
    "trusted": true
   },
   "outputs": [],
   "source": [
    "agemodel.save('/kaggle/working/agemodel_new.h5')"
   ]
  },
  {
   "cell_type": "code",
   "execution_count": null,
   "metadata": {
    "trusted": true
   },
   "outputs": [],
   "source": [
    "from IPython.display import FileLink\n",
    "\n",
    "FileLink('agemodel.h5')"
   ]
  },
  {
   "cell_type": "markdown",
   "metadata": {},
   "source": [
    "**Evaluating the Models**"
   ]
  },
  {
   "cell_type": "code",
   "execution_count": null,
   "metadata": {
    "trusted": true
   },
   "outputs": [],
   "source": [
    "\n",
    "import pandas as pd\n",
    "import matplotlib.pyplot as plt\n",
    "import matplotlib.ticker as ticker\n",
    "\n",
    "\n",
    "file_path = '/kaggle/input/training-results/training_results.csv'\n",
    "\n",
    "history_df = pd.read_csv(file_path)\n",
    "\n",
    "plt.figure(figsize=(16, 7))\n",
    "\n",
    "plt.subplot(1, 2, 1)\n",
    "plt.plot(history_df['Epoch'], history_df['loss'], label='Train Loss', color='blue', linewidth=2)\n",
    "plt.plot(history_df['Epoch'], history_df['val_loss'], label='Validation Loss', color='orange', linewidth=2)\n",
    "plt.title('Biểu đồ Loss theo Epoch', fontsize=15, fontweight='bold')\n",
    "plt.xlabel('Epoch', fontsize=13)\n",
    "plt.ylabel('Loss', fontsize=13)\n",
    "plt.grid(True, linestyle='--', alpha=0.7)\n",
    "\n",
    "if history_df['Epoch'].dtype == 'int64' or history_df['Epoch'].apply(float.is_integer).all():\n",
    "     plt.gca().xaxis.set_major_locator(ticker.MaxNLocator(integer=True))\n",
    "\n",
    "plt.subplot(1, 2, 2)\n",
    "plt.plot(history_df['Epoch'], history_df['mae'], label='Train MAE', color='green', linewidth=2)\n",
    "plt.plot(history_df['Epoch'], history_df['val_mae'], label='Validation MAE', color='red', linewidth=2)\n",
    "plt.title('Biểu đồ Mean Absolute Error (MAE) theo Epoch', fontsize=15, fontweight='bold')\n",
    "plt.xlabel('Epoch', fontsize=13)\n",
    "plt.ylabel('Mean Absolute Error', fontsize=13)\n",
    "plt.legend(loc='upper right', fontsize=11)\n",
    "plt.grid(True, linestyle='--', alpha=0.7)\n",
    "if history_df['Epoch'].dtype == 'int64' or history_df['Epoch'].apply(float.is_integer).all():\n",
    "     plt.gca().xaxis.set_major_locator(ticker.MaxNLocator(integer=True))\n",
    "\n",
    "plt.suptitle('Đánh giá hiệu suất mô hình dự đoán tuổi', fontsize=18, fontweight='bold')\n",
    "plt.tight_layout(rect=[0, 0.03, 1, 0.95])\n",
    "\n",
    "# Save the plot to a file\n",
    "plt.savefig('model_performance_plot.png')\n",
    "plt.show()\n",
    "\n",
    "print(\"\\nBiểu đồ đã được tạo và lưu với tên 'model_performance_plot.png'.\")\n"
   ]
  },
  {
   "cell_type": "code",
   "execution_count": null,
   "metadata": {
    "trusted": true
   },
   "outputs": [],
   "source": [
    "from sklearn.metrics import mean_absolute_error, mean_squared_error, r2_score\n",
    "\n",
    "x_test_norm = x_test_age / 255.0\n",
    "y_pred_age = agemodel.predict(x_test_norm).reshape(-1)\n",
    "y_test_real = y_test_age.values.reshape(-1)\n",
    "\n",
    "mae = mean_absolute_error(y_test_real, y_pred_age)\n",
    "rmse = np.sqrt(mean_squared_error(y_test_real, y_pred_age))\n",
    "r2 = r2_score(y_test_real, y_pred_age)\n",
    "\n",
    "print(f\"MAE: {mae:.2f}\")\n",
    "print(f\"RMSE: {rmse:.2f}\")\n",
    "print(f\"R² score: {r2:.2f}\")\n",
    "\n",
    "plt.figure(figsize=(10,6))\n",
    "plt.scatter(y_test_real, y_pred_age, alpha=0.6, color='teal')\n",
    "plt.plot([min(y_test_real.min(), y_pred_age.min()), max(y_test_real.max(), y_pred_age.max())],\n",
    "         [min(y_test_real.min(), y_pred_age.min()), max(y_test_real.max(), y_pred_age.max())],\n",
    "         'r--') # Đảm bảo đường chéo bao phủ hết các điểm\n",
    "plt.xlabel('Tuổi thực tế', fontsize=12)\n",
    "plt.ylabel('Tuổi dự đoán', fontsize=12)\n",
    "plt.title('So sánh Tuổi Thực tế và Tuổi Dự đoán trên tập Test', fontsize=14, fontweight='bold')\n",
    "plt.grid(True, linestyle='--', alpha=0.7)\n",
    "plt.savefig('so_sanh_tuoi_thucte_du_doan.png')\n",
    "plt.show()\n"
   ]
  }
 ],
 "metadata": {
  "kaggle": {
   "accelerator": "nvidiaTeslaT4",
   "dataSources": [
    {
     "datasetId": 3139109,
     "sourceId": 5423111,
     "sourceType": "datasetVersion"
    },
    {
     "datasetId": 7552490,
     "sourceId": 12005498,
     "sourceType": "datasetVersion"
    }
   ],
   "dockerImageVersionId": 31040,
   "isGpuEnabled": true,
   "isInternetEnabled": true,
   "language": "python",
   "sourceType": "notebook"
  },
  "kernelspec": {
   "display_name": "Python 3",
   "language": "python",
   "name": "python3"
  },
  "language_info": {
   "codemirror_mode": {
    "name": "ipython",
    "version": 3
   },
   "file_extension": ".py",
   "mimetype": "text/x-python",
   "name": "python",
   "nbconvert_exporter": "python",
   "pygments_lexer": "ipython3",
   "version": "3.11.11"
  }
 },
 "nbformat": 4,
 "nbformat_minor": 4
}
